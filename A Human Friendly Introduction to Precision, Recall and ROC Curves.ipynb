{
 "cells": [
  {
   "cell_type": "markdown",
   "metadata": {},
   "source": [
    "# Introduction\n",
    "\n",
    "This notebook will attempt to provide intuition into classifier performance metrics (such as precision, recall and ROC curves). It is written in the style of guiding a learner, and therefore includes some thinking prompts before the answers are shown. No memorisation of formulas (such as recall equals true positives over true positives plus false negatives) is required, and is expressly discouraged."
   ]
  },
  {
   "cell_type": "code",
   "execution_count": 1,
   "metadata": {},
   "outputs": [],
   "source": [
    "from sklearn.datasets import load_breast_cancer\n",
    "from sklearn.model_selection import train_test_split\n",
    "from sklearn.neighbors import KNeighborsClassifier\n",
    "from sklearn.metrics import recall_score, precision_score, confusion_matrix, roc_curve\n",
    "from sklearn import tree\n",
    "import pandas as pd\n",
    "import numpy as np\n",
    "import matplotlib.pyplot as plt"
   ]
  },
  {
   "cell_type": "markdown",
   "metadata": {},
   "source": [
    "# Boring stuff that has to be done + Dataset Description\n",
    "\n",
    "We use the popular Breast Cancer dataset, primarily for its simplicity so that we can focus on concepts and not the dataset. It comes preloaded with scikit-learn, so loading it up is a cinch."
   ]
  },
  {
   "cell_type": "code",
   "execution_count": 2,
   "metadata": {},
   "outputs": [],
   "source": [
    "cancer_data = load_breast_cancer()"
   ]
  },
  {
   "cell_type": "markdown",
   "metadata": {},
   "source": [
    "The breast cancer dataset has 10 features, and _two classes_"
   ]
  },
  {
   "cell_type": "code",
   "execution_count": 3,
   "metadata": {
    "scrolled": true
   },
   "outputs": [
    {
     "data": {
      "text/plain": [
       "['malignant', 'benign']"
      ]
     },
     "execution_count": 3,
     "metadata": {},
     "output_type": "execute_result"
    }
   ],
   "source": [
    "list(cancer_data.target_names)"
   ]
  },
  {
   "cell_type": "markdown",
   "metadata": {},
   "source": [
    "The classifiers we use in order to understand performance metrics will attempt to classify each cell as _malignant_ or _benign_ based on the 10 feature values."
   ]
  },
  {
   "cell_type": "markdown",
   "metadata": {},
   "source": [
    "Let's convert the data (which is currently a sklearn bunch object) to a pandas dataframe which are easier to work with..."
   ]
  },
  {
   "cell_type": "code",
   "execution_count": 4,
   "metadata": {},
   "outputs": [],
   "source": [
    "cancer_df = pd.DataFrame(data=np.c_[cancer_data.data, cancer_data.target], columns=[np.append([cancer_data.feature_names], [\"class\"])])"
   ]
  },
  {
   "cell_type": "markdown",
   "metadata": {},
   "source": [
    "...and separate out the feature values (X) and the class labels (Y)..."
   ]
  },
  {
   "cell_type": "code",
   "execution_count": 5,
   "metadata": {},
   "outputs": [],
   "source": [
    "X = cancer_df[cancer_df.columns[:-1]]\n",
    "Y = cancer_df[cancer_df.columns[-1]]"
   ]
  },
  {
   "cell_type": "markdown",
   "metadata": {},
   "source": [
    "... and use 70% of the data as training, 30% as test..."
   ]
  },
  {
   "cell_type": "code",
   "execution_count": 6,
   "metadata": {},
   "outputs": [],
   "source": [
    "X_train, X_test, Y_train, Y_test = train_test_split(X, Y, test_size = 0.3, random_state = 42)"
   ]
  },
  {
   "cell_type": "markdown",
   "metadata": {},
   "source": [
    "# Hands on Precision and Recall\n",
    "\n",
    "Precision and recall scores are widely used metrics to evaluate classifiers, owing in no small part to their reliability in evaluating classifiers for datasets with an imbalanced number of examples in each class. \n",
    "\n",
    "We start off with using the KNN classfier, again due to simplicity as our objective is to learn about accuracy metrics and not to gain the highest accuracy."
   ]
  },
  {
   "cell_type": "code",
   "execution_count": 7,
   "metadata": {},
   "outputs": [],
   "source": [
    "model = KNeighborsClassifier(n_neighbors=3)\n",
    "model.fit(X_train, Y_train)\n",
    "predictions = model.predict(X_test)"
   ]
  },
  {
   "cell_type": "markdown",
   "metadata": {},
   "source": [
    "Let's first look at the 'recall' metric of the model. The recall metric will measure how many of the positive instances in the dataset our classifier was able to detect. Put another way, out of the instances in the test dataset that are actually positive, how many did our classifier find out (or how many did it _'remember'_ or '_recall_').\n",
    "\n",
    "The number of True Negative, False Positive, False Negative, True Positive instances have been given below. Try to figure out the recall of the classifier without resorting to any memorized formulae."
   ]
  },
  {
   "cell_type": "code",
   "execution_count": 8,
   "metadata": {},
   "outputs": [
    {
     "name": "stdout",
     "output_type": "stream",
     "text": [
      "57 6 4 104\n"
     ]
    }
   ],
   "source": [
    "tn, fp, fn, tp = confusion_matrix(Y_test, predictions).ravel()\n",
    "print(tn, fp, fn, tp)"
   ]
  },
  {
   "cell_type": "markdown",
   "metadata": {},
   "source": [
    "How many _actual_ positive instances are there in the test set? This will be the sum of:\n",
    "\n",
    "- The number of instances the classifier correctly detected as positive (the True Positives(104)) and\n",
    "- The instances the classifier missed (the False Negatives(4)) which _should_ have been classified as positives"
   ]
  },
  {
   "cell_type": "markdown",
   "metadata": {},
   "source": [
    "Therefore the recall value is the number of positives the classifier found or 'recalled' (104) divided by the number of actual positives (104+4). Let's print out the recall score as returned by scikit-learn. This should be equal to 104/(104+4)"
   ]
  },
  {
   "cell_type": "code",
   "execution_count": 9,
   "metadata": {},
   "outputs": [
    {
     "name": "stdout",
     "output_type": "stream",
     "text": [
      "Recall KNN (n=3):  0.9629629629629629\n"
     ]
    }
   ],
   "source": [
    "print('Recall KNN (n=3): ', recall_score(Y_test, predictions))"
   ]
  },
  {
   "cell_type": "markdown",
   "metadata": {},
   "source": [
    "The precision metric focuses on only the instances that the classifier _thought_ were positive. Precision can be interpreted as measuring the number of instances that were _actually_ positive out of the instances that the classifier _thought_ were positive. \n",
    "\n",
    "The number of instances the classifier _thought_ were positive is obviously the sum of:\n",
    "\n",
    "- The number of instances it correctly thought were positive (True Positives = 104)\n",
    "- The number of instances it incorrectly thought were positive (False Positives = 6)\n",
    "\n",
    "The precision metric is the proportion of the correctly identified positives (104) against the total number of instances the classifier thought were positive (104+6). \n",
    "\n",
    "Let's print out the precision score as returned by scikit-learn. This should be equal to 104/(104+6)"
   ]
  },
  {
   "cell_type": "code",
   "execution_count": 10,
   "metadata": {},
   "outputs": [
    {
     "name": "stdout",
     "output_type": "stream",
     "text": [
      "Precision KNN (n=3):  0.9454545454545454\n"
     ]
    }
   ],
   "source": [
    "print('Precision KNN (n=3): ', precision_score(Y_test, predictions))"
   ]
  },
  {
   "cell_type": "markdown",
   "metadata": {},
   "source": [
    "Now for something that will test understanding. Suppose we have a classifier that classifies **all** instances as positive"
   ]
  },
  {
   "cell_type": "code",
   "execution_count": 11,
   "metadata": {},
   "outputs": [],
   "source": [
    "all_one_predictions = [1]*len(X_test)"
   ]
  },
  {
   "cell_type": "markdown",
   "metadata": {},
   "source": [
    "What would the recall value be for this predictor?"
   ]
  },
  {
   "cell_type": "code",
   "execution_count": 12,
   "metadata": {},
   "outputs": [
    {
     "name": "stdout",
     "output_type": "stream",
     "text": [
      "Recall:  1.0\n"
     ]
    }
   ],
   "source": [
    "print ('Recall: ', recall_score(Y_test, all_one_predictions))"
   ]
  },
  {
   "cell_type": "markdown",
   "metadata": {},
   "source": [
    "The recall value is 1.0 because this classifier detects all positive instances. It claims that _all_ instances are positive, so of course it is not going to miss any, so it will have perfect recall. \n",
    "\n",
    "However this will inevitably result in many instances that are _not_ actually positive being labeled as positive, which will bring down precision. "
   ]
  },
  {
   "cell_type": "code",
   "execution_count": 13,
   "metadata": {},
   "outputs": [
    {
     "name": "stdout",
     "output_type": "stream",
     "text": [
      "Precision:  0.631578947368421\n"
     ]
    }
   ],
   "source": [
    "print ('Precision: ', precision_score(Y_test, all_one_predictions))"
   ]
  },
  {
   "cell_type": "markdown",
   "metadata": {},
   "source": [
    "It might also be illustrative to consider the case where the predictor claims that all instances are negative. "
   ]
  },
  {
   "cell_type": "code",
   "execution_count": 14,
   "metadata": {},
   "outputs": [
    {
     "name": "stdout",
     "output_type": "stream",
     "text": [
      "Recall:  0.0\n",
      "Precision:  0.0\n"
     ]
    },
    {
     "name": "stderr",
     "output_type": "stream",
     "text": [
      "C:\\Users\\Pasan.DESKTOP-3IJPFIT\\Anaconda3\\lib\\site-packages\\sklearn\\metrics\\classification.py:1135: UndefinedMetricWarning: Precision is ill-defined and being set to 0.0 due to no predicted samples.\n",
      "  'precision', 'predicted', average, warn_for)\n"
     ]
    }
   ],
   "source": [
    "all_zero_predictions = [0]*len(X_test)\n",
    "print ('Recall: ', recall_score(Y_test, all_zero_predictions))\n",
    "print ('Precision: ', precision_score(Y_test, all_zero_predictions))"
   ]
  },
  {
   "cell_type": "markdown",
   "metadata": {},
   "source": [
    "Recall is zero because the classifier does not claim that _any_ instance is a positive, and therefore misses every actual positive instance. \n",
    "\n",
    "Precision is not defined, as precision is the proportion the classifier detected as correctly positive out of all that it thought were positive. Here the classifier does not believe that any instance is positive. Therefore trying to figure out how many it _correctly_ thought were positive does not make too much sense as it did not believe that _any_ sample was positive. "
   ]
  },
  {
   "cell_type": "markdown",
   "metadata": {},
   "source": [
    "# ROC Curves\n",
    "\n",
    "Another popular performance measuring tool for model comparison is ROC curves. ROC curves only make sense for classifiers that output a probability. Therefore let's move on to Decision Trees as our classifier. "
   ]
  },
  {
   "cell_type": "markdown",
   "metadata": {},
   "source": [
    "Probabilistic classifiers output a probability for each class. "
   ]
  },
  {
   "cell_type": "code",
   "execution_count": 15,
   "metadata": {},
   "outputs": [
    {
     "name": "stdout",
     "output_type": "stream",
     "text": [
      "[[0.02173913 0.97826087]\n",
      " [0.94964029 0.05035971]\n",
      " [0.94964029 0.05035971]\n",
      " [0.02173913 0.97826087]\n",
      " [0.02173913 0.97826087]\n",
      " [0.94964029 0.05035971]\n",
      " [0.94964029 0.05035971]\n",
      " [0.28571429 0.71428571]\n",
      " [0.94964029 0.05035971]\n",
      " [0.02173913 0.97826087]\n",
      " [0.02173913 0.97826087]\n",
      " [0.94964029 0.05035971]\n",
      " [0.02173913 0.97826087]\n",
      " [0.94964029 0.05035971]\n",
      " [0.02173913 0.97826087]\n",
      " [0.94964029 0.05035971]\n",
      " [0.02173913 0.97826087]\n",
      " [0.02173913 0.97826087]\n",
      " [0.02173913 0.97826087]\n",
      " [0.94964029 0.05035971]\n",
      " [0.02173913 0.97826087]\n",
      " [0.02173913 0.97826087]\n",
      " [0.94964029 0.05035971]\n",
      " [0.02173913 0.97826087]\n",
      " [0.02173913 0.97826087]\n",
      " [0.28571429 0.71428571]\n",
      " [0.02173913 0.97826087]\n",
      " [0.02173913 0.97826087]\n",
      " [0.02173913 0.97826087]\n",
      " [0.94964029 0.05035971]\n",
      " [0.02173913 0.97826087]\n",
      " [0.02173913 0.97826087]\n",
      " [0.02173913 0.97826087]\n",
      " [0.02173913 0.97826087]\n",
      " [0.02173913 0.97826087]\n",
      " [0.02173913 0.97826087]\n",
      " [0.53333333 0.46666667]\n",
      " [0.02173913 0.97826087]\n",
      " [0.94964029 0.05035971]\n",
      " [0.02173913 0.97826087]\n",
      " [0.02173913 0.97826087]\n",
      " [0.94964029 0.05035971]\n",
      " [0.02173913 0.97826087]\n",
      " [0.02173913 0.97826087]\n",
      " [0.28571429 0.71428571]\n",
      " [0.02173913 0.97826087]\n",
      " [0.02173913 0.97826087]\n",
      " [0.02173913 0.97826087]\n",
      " [0.02173913 0.97826087]\n",
      " [0.02173913 0.97826087]\n",
      " [0.94964029 0.05035971]\n",
      " [0.94964029 0.05035971]\n",
      " [0.02173913 0.97826087]\n",
      " [0.28571429 0.71428571]\n",
      " [0.02173913 0.97826087]\n",
      " [0.02173913 0.97826087]\n",
      " [0.02173913 0.97826087]\n",
      " [0.94964029 0.05035971]\n",
      " [0.94964029 0.05035971]\n",
      " [0.02173913 0.97826087]\n",
      " [0.02173913 0.97826087]\n",
      " [0.94964029 0.05035971]\n",
      " [0.94964029 0.05035971]\n",
      " [0.02173913 0.97826087]\n",
      " [0.02173913 0.97826087]\n",
      " [0.02173913 0.97826087]\n",
      " [0.94964029 0.05035971]\n",
      " [0.94964029 0.05035971]\n",
      " [0.02173913 0.97826087]\n",
      " [0.02173913 0.97826087]\n",
      " [0.94964029 0.05035971]\n",
      " [0.94964029 0.05035971]\n",
      " [0.02173913 0.97826087]\n",
      " [0.94964029 0.05035971]\n",
      " [0.02173913 0.97826087]\n",
      " [0.28571429 0.71428571]\n",
      " [0.02173913 0.97826087]\n",
      " [0.94964029 0.05035971]\n",
      " [0.02173913 0.97826087]\n",
      " [0.94964029 0.05035971]\n",
      " [0.94964029 0.05035971]\n",
      " [0.02173913 0.97826087]\n",
      " [0.02173913 0.97826087]\n",
      " [0.94964029 0.05035971]\n",
      " [0.53333333 0.46666667]\n",
      " [0.94964029 0.05035971]\n",
      " [0.94964029 0.05035971]\n",
      " [0.94964029 0.05035971]\n",
      " [0.02173913 0.97826087]\n",
      " [0.02173913 0.97826087]\n",
      " [0.02173913 0.97826087]\n",
      " [0.02173913 0.97826087]\n",
      " [0.94964029 0.05035971]\n",
      " [0.02173913 0.97826087]\n",
      " [0.02173913 0.97826087]\n",
      " [0.02173913 0.97826087]\n",
      " [0.94964029 0.05035971]\n",
      " [0.94964029 0.05035971]\n",
      " [0.02173913 0.97826087]\n",
      " [0.94964029 0.05035971]\n",
      " [0.94964029 0.05035971]\n",
      " [0.02173913 0.97826087]\n",
      " [0.28571429 0.71428571]\n",
      " [0.94964029 0.05035971]\n",
      " [0.02173913 0.97826087]\n",
      " [0.02173913 0.97826087]\n",
      " [0.02173913 0.97826087]\n",
      " [0.94964029 0.05035971]\n",
      " [0.28571429 0.71428571]\n",
      " [0.02173913 0.97826087]\n",
      " [0.94964029 0.05035971]\n",
      " [0.02173913 0.97826087]\n",
      " [0.02173913 0.97826087]\n",
      " [0.94964029 0.05035971]\n",
      " [0.02173913 0.97826087]\n",
      " [0.94964029 0.05035971]\n",
      " [0.02173913 0.97826087]\n",
      " [0.02173913 0.97826087]\n",
      " [0.02173913 0.97826087]\n",
      " [0.94964029 0.05035971]\n",
      " [0.94964029 0.05035971]\n",
      " [0.02173913 0.97826087]\n",
      " [0.02173913 0.97826087]\n",
      " [0.94964029 0.05035971]\n",
      " [0.02173913 0.97826087]\n",
      " [0.94964029 0.05035971]\n",
      " [0.94964029 0.05035971]\n",
      " [0.02173913 0.97826087]\n",
      " [0.02173913 0.97826087]\n",
      " [0.94964029 0.05035971]\n",
      " [0.28571429 0.71428571]\n",
      " [0.94964029 0.05035971]\n",
      " [0.02173913 0.97826087]\n",
      " [0.02173913 0.97826087]\n",
      " [0.53333333 0.46666667]\n",
      " [0.28571429 0.71428571]\n",
      " [0.94964029 0.05035971]\n",
      " [0.02173913 0.97826087]\n",
      " [0.28571429 0.71428571]\n",
      " [0.94964029 0.05035971]\n",
      " [0.02173913 0.97826087]\n",
      " [0.94964029 0.05035971]\n",
      " [0.02173913 0.97826087]\n",
      " [0.02173913 0.97826087]\n",
      " [0.94964029 0.05035971]\n",
      " [0.02173913 0.97826087]\n",
      " [0.94964029 0.05035971]\n",
      " [0.94964029 0.05035971]\n",
      " [0.53333333 0.46666667]\n",
      " [0.02173913 0.97826087]\n",
      " [0.53333333 0.46666667]\n",
      " [0.02173913 0.97826087]\n",
      " [0.02173913 0.97826087]\n",
      " [0.02173913 0.97826087]\n",
      " [0.02173913 0.97826087]\n",
      " [0.94964029 0.05035971]\n",
      " [0.94964029 0.05035971]\n",
      " [0.02173913 0.97826087]\n",
      " [0.02173913 0.97826087]\n",
      " [0.02173913 0.97826087]\n",
      " [0.02173913 0.97826087]\n",
      " [0.02173913 0.97826087]\n",
      " [0.02173913 0.97826087]\n",
      " [0.02173913 0.97826087]\n",
      " [0.53333333 0.46666667]\n",
      " [0.02173913 0.97826087]\n",
      " [0.02173913 0.97826087]\n",
      " [0.02173913 0.97826087]\n",
      " [0.02173913 0.97826087]\n",
      " [0.94964029 0.05035971]\n",
      " [0.02173913 0.97826087]]\n"
     ]
    }
   ],
   "source": [
    "model = tree.DecisionTreeClassifier(random_state=42, max_depth=2)\n",
    "model.fit(X_train, Y_train)\n",
    "predictions_proba = model.predict_proba(X_test)\n",
    "print(predictions_proba)"
   ]
  },
  {
   "cell_type": "markdown",
   "metadata": {},
   "source": [
    "They use a threshold to determine when to place a given instance in the postive class. \n",
    "\n",
    "For example scikit-learn uses a default threshold value of 0.5. If the probability output by the classifier for the positive class is greater than 0.5, it would classify that instance as positive, and vice versa. "
   ]
  },
  {
   "cell_type": "code",
   "execution_count": 16,
   "metadata": {
    "scrolled": true
   },
   "outputs": [
    {
     "name": "stdout",
     "output_type": "stream",
     "text": [
      "[1. 0. 0. 1. 1. 0. 0. 1. 0. 1. 1. 0. 1. 0. 1. 0. 1. 1. 1. 0. 1. 1. 0. 1.\n",
      " 1. 1. 1. 1. 1. 0. 1. 1. 1. 1. 1. 1. 0. 1. 0. 1. 1. 0. 1. 1. 1. 1. 1. 1.\n",
      " 1. 1. 0. 0. 1. 1. 1. 1. 1. 0. 0. 1. 1. 0. 0. 1. 1. 1. 0. 0. 1. 1. 0. 0.\n",
      " 1. 0. 1. 1. 1. 0. 1. 0. 0. 1. 1. 0. 0. 0. 0. 0. 1. 1. 1. 1. 0. 1. 1. 1.\n",
      " 0. 0. 1. 0. 0. 1. 1. 0. 1. 1. 1. 0. 1. 1. 0. 1. 1. 0. 1. 0. 1. 1. 1. 0.\n",
      " 0. 1. 1. 0. 1. 0. 0. 1. 1. 0. 1. 0. 1. 1. 0. 1. 0. 1. 1. 0. 1. 0. 1. 1.\n",
      " 0. 1. 0. 0. 0. 1. 0. 1. 1. 1. 1. 0. 0. 1. 1. 1. 1. 1. 1. 1. 0. 1. 1. 1.\n",
      " 1. 0. 1.]\n"
     ]
    }
   ],
   "source": [
    "predictions = model.predict(X_test)\n",
    "print(predictions)"
   ]
  },
  {
   "cell_type": "markdown",
   "metadata": {},
   "source": [
    "You may compare this output with the probabilities output above, and see the output is 1 whenever the second column has a value > 0.5"
   ]
  },
  {
   "cell_type": "markdown",
   "metadata": {},
   "source": [
    "Let's generate the class labels ourselves to verify that this is indeed what scikit-learn is doing."
   ]
  },
  {
   "cell_type": "code",
   "execution_count": 17,
   "metadata": {},
   "outputs": [
    {
     "name": "stdout",
     "output_type": "stream",
     "text": [
      "[1, 0, 0, 1, 1, 0, 0, 1, 0, 1, 1, 0, 1, 0, 1, 0, 1, 1, 1, 0, 1, 1, 0, 1, 1, 1, 1, 1, 1, 0, 1, 1, 1, 1, 1, 1, 0, 1, 0, 1, 1, 0, 1, 1, 1, 1, 1, 1, 1, 1, 0, 0, 1, 1, 1, 1, 1, 0, 0, 1, 1, 0, 0, 1, 1, 1, 0, 0, 1, 1, 0, 0, 1, 0, 1, 1, 1, 0, 1, 0, 0, 1, 1, 0, 0, 0, 0, 0, 1, 1, 1, 1, 0, 1, 1, 1, 0, 0, 1, 0, 0, 1, 1, 0, 1, 1, 1, 0, 1, 1, 0, 1, 1, 0, 1, 0, 1, 1, 1, 0, 0, 1, 1, 0, 1, 0, 0, 1, 1, 0, 1, 0, 1, 1, 0, 1, 0, 1, 1, 0, 1, 0, 1, 1, 0, 1, 0, 0, 0, 1, 0, 1, 1, 1, 1, 0, 0, 1, 1, 1, 1, 1, 1, 1, 0, 1, 1, 1, 1, 0, 1]\n"
     ]
    }
   ],
   "source": [
    "threshold = 0.5\n",
    "predictions_custom_threshold = [1 if prob[1] > threshold else 0 for prob in predictions_proba]\n",
    "print(predictions_custom_threshold)"
   ]
  },
  {
   "cell_type": "markdown",
   "metadata": {},
   "source": [
    "Check if the two prediction lists are equal..."
   ]
  },
  {
   "cell_type": "code",
   "execution_count": 18,
   "metadata": {},
   "outputs": [
    {
     "data": {
      "text/plain": [
       "True"
      ]
     },
     "execution_count": 18,
     "metadata": {},
     "output_type": "execute_result"
    }
   ],
   "source": [
    "all(predictions == predictions_custom_threshold)"
   ]
  },
  {
   "cell_type": "markdown",
   "metadata": {},
   "source": [
    "and they are!"
   ]
  },
  {
   "cell_type": "markdown",
   "metadata": {},
   "source": [
    "Look at the probabilities output for the classes earlier and try to guess at which threshold values the predictions would differ (would they differ at 0.6? what about 0.8?)"
   ]
  },
  {
   "cell_type": "code",
   "execution_count": 19,
   "metadata": {},
   "outputs": [
    {
     "data": {
      "text/plain": [
       "False"
      ]
     },
     "execution_count": 19,
     "metadata": {},
     "output_type": "execute_result"
    }
   ],
   "source": [
    "threshold = 0.8\n",
    "predictions_custom_threshold = [1 if prob[1] > threshold else 0 for prob in predictions_proba]\n",
    "all(predictions == predictions_custom_threshold)"
   ]
  },
  {
   "cell_type": "markdown",
   "metadata": {},
   "source": [
    "Given that different decisions are made (about whether to label an instance as a positive class instance or not), the performance metrics would also change. \n",
    "\n",
    "For example let's look at the recall values (heads up, you can guess which threshold would result in the higher recall value based on the discussion above)"
   ]
  },
  {
   "cell_type": "code",
   "execution_count": 20,
   "metadata": {},
   "outputs": [
    {
     "name": "stdout",
     "output_type": "stream",
     "text": [
      "Recall (Threshold = 0.5) 0.9444444444444444\n",
      "Recall (Threshold = 0.8) 0.8888888888888888\n"
     ]
    }
   ],
   "source": [
    "print('Recall (Threshold = 0.5)', recall_score(Y_test, predictions))\n",
    "print('Recall (Threshold = 0.8)', recall_score(Y_test, predictions_custom_threshold))\n"
   ]
  },
  {
   "cell_type": "markdown",
   "metadata": {},
   "source": [
    "A lower threshold encourages more instances to be classified as positive, which would increase the number of positive instances the classifier finds, which will increase recall. \n",
    "\n",
    "Of course, this will result in this low threshold aggressively-positive-finding classifier having a higher proportion of instances it incorrectly thinks are positive.  Therefore, precision is bound to suffer. "
   ]
  },
  {
   "cell_type": "code",
   "execution_count": 21,
   "metadata": {},
   "outputs": [
    {
     "name": "stdout",
     "output_type": "stream",
     "text": [
      "Precision (Threshold = 0.5) 0.9444444444444444\n",
      "Precision (Threshold = 0.8) 0.9795918367346939\n"
     ]
    }
   ],
   "source": [
    "print('Precision (Threshold = 0.5)', precision_score(Y_test, predictions))\n",
    "print('Precision (Threshold = 0.8)', precision_score(Y_test, predictions_custom_threshold))"
   ]
  },
  {
   "cell_type": "markdown",
   "metadata": {},
   "source": [
    "We see the Precision when the threshold was at 0.5 is lower than it is at 0.8"
   ]
  },
  {
   "cell_type": "markdown",
   "metadata": {},
   "source": [
    "## Building our own ROC curves"
   ]
  },
  {
   "cell_type": "markdown",
   "metadata": {},
   "source": [
    "We now see that the performance metrics of probabilistic classifiers differ based on the threshold at which a sample is treated as a positive class sample. \n",
    "\n",
    "ROC curves are useful in probabilistic classifiers since the performance metrics can differ based on this threshold. \n",
    "\n",
    "ROC curves are essentially a **plot of the classifier performance at multiple different thresholds.** \n",
    "\n",
    "In ROC curves the classifier performance is commonly expressed using the 'True Positive Rate' and the 'False Positive Rate'. \n",
    "\n",
    "- The True Positive Rate is the proportion of True Positives to all Actual Positives\n",
    "- The False Positive Rate is the proportion of False Positives to all Actual Negatives\n",
    "\n",
    "Let's first calculate the True Positive and False Positive Rates for multiple threshold values."
   ]
  },
  {
   "cell_type": "code",
   "execution_count": 22,
   "metadata": {},
   "outputs": [],
   "source": [
    "thresholds = np.linspace(0,1.1,11)\n",
    "metrics_at_different_thresholds=list()\n",
    "for threshold in thresholds: #find fp and tp rates at multiple threshold values\n",
    "    predictions_custom_threshold = [1 if prob[1] > threshold else 0 for prob in predictions_proba]\n",
    "    \n",
    "    tn, fp, fn, tp = confusion_matrix(Y_test, predictions_custom_threshold).ravel()\n",
    "    fp_rate = fp / (tn + fp)\n",
    "    tp_rate = tp / (tp + fn)\n",
    "    \n",
    "    metrics_at_different_thresholds.append((fp_rate, tp_rate))"
   ]
  },
  {
   "cell_type": "markdown",
   "metadata": {},
   "source": [
    "Let's now plot the True Positive and False Positive pairs we calculated above."
   ]
  },
  {
   "cell_type": "code",
   "execution_count": 23,
   "metadata": {},
   "outputs": [
    {
     "data": {
      "image/png": "[encoded data removed]",
      "text/plain": [
       "<matplotlib.figure.Figure at 0x238d6d8e668>"
      ]
     },
     "metadata": {},
     "output_type": "display_data"
    }
   ],
   "source": [
    "#plot fp, tp rates at multiple threshold values\n",
    "x = [metrics_at_threshold[0] for metrics_at_threshold in metrics_at_different_thresholds]\n",
    "y = [metrics_at_threshold[1] for metrics_at_threshold in metrics_at_different_thresholds]\n",
    "\n",
    "plt.plot(x, y)\n",
    "plt.title('Receiver Operating Characteristic')\n",
    "plt.ylabel('True Positive Rate')\n",
    "plt.xlabel('False Positive Rate')\n",
    "plt.show()"
   ]
  },
  {
   "cell_type": "markdown",
   "metadata": {},
   "source": [
    "Compare with the ROC curve that is generated for us using scikit-learn..."
   ]
  },
  {
   "cell_type": "code",
   "execution_count": 24,
   "metadata": {},
   "outputs": [
    {
     "data": {
      "image/png": "[encoded data removed]",
      "text/plain": [
       "<matplotlib.figure.Figure at 0x238d6da4198>"
      ]
     },
     "metadata": {},
     "output_type": "display_data"
    }
   ],
   "source": [
    "fpr, tpr, thresholds = roc_curve(Y_test, predictions_proba[:,1], pos_label=1)\n",
    "plt.title('Receiver Operating Characteristic')\n",
    "plt.ylabel('True Positive Rate')\n",
    "plt.xlabel('False Positive Rate')\n",
    "plt.plot(fpr, tpr)\n",
    "plt.show()"
   ]
  },
  {
   "cell_type": "markdown",
   "metadata": {},
   "source": [
    "They are the same. Hopefully studying the code for creating the ROC curve from scratch helped you understand what it actually represents. "
   ]
  },
  {
   "cell_type": "markdown",
   "metadata": {},
   "source": [
    "# Where to from here?"
   ]
  },
  {
   "cell_type": "markdown",
   "metadata": {},
   "source": [
    "Some potential areas to explore:\n",
    "\n",
    "- Learn about sensitivity and specificity (I like to think of sensitivity as 'positive recall' and specificity as 'negative recall')\n",
    "- ROC curves for multiple classes and regression problems"
   ]
  }
 ],
 "metadata": {
  "kernelspec": {
   "display_name": "Python 3",
   "language": "python",
   "name": "python3"
  },
  "language_info": {
   "codemirror_mode": {
    "name": "ipython",
    "version": 3
   },
   "file_extension": ".py",
   "mimetype": "text/x-python",
   "name": "python",
   "nbconvert_exporter": "python",
   "pygments_lexer": "ipython3",
   "version": "3.6.4"
  }
 },
 "nbformat": 4,
 "nbformat_minor": 2
}
